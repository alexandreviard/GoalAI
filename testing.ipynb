{
 "cells": [
  {
   "cell_type": "code",
   "execution_count": 1,
   "id": "initial_id",
   "metadata": {
    "collapsed": true,
    "ExecuteTime": {
     "end_time": "2024-02-15T18:24:14.955642Z",
     "start_time": "2024-02-15T18:24:12.654929Z"
    }
   },
   "outputs": [],
   "source": [
    "from leagues import *"
   ]
  },
  {
   "cell_type": "code",
   "outputs": [
    {
     "name": "stderr",
     "output_type": "stream",
     "text": [
      "/Users/alexandre/PycharmProjects/GoalAI/processing/processing.py:71: SettingWithCopyWarning: \n",
      "A value is trying to be set on a copy of a slice from a DataFrame.\n",
      "Try using .loc[row_indexer,col_indexer] = value instead\n",
      "\n",
      "See the caveats in the documentation: https://pandas.pydata.org/pandas-docs/stable/user_guide/indexing.html#returning-a-view-versus-a-copy\n",
      "  data['Season'] = data['DateTime'].apply(\n"
     ]
    },
    {
     "data": {
      "text/plain": "                DateTime            Comp  Round  Day Venue Result  GF  GA  \\\n11   2018-08-12 13:30:00  Premier League      1  Sun  Home      W   4   0   \n5    2018-08-11 15:00:00  Premier League      1  Sat  Away      W   3   0   \n1    2018-08-11 15:00:00  Premier League      1  Sat  Home      W   2   0   \n6    2018-08-11 15:00:00  Premier League      1  Sat  Away      W   2   0   \n12   2018-08-12 16:00:00  Premier League      1  Sun  Away      W   2   0   \n...                  ...             ...    ...  ...   ...    ...  ..  ..   \n4203 2024-01-20 12:30:00  Premier League     21  Sat  Away      L   0   5   \n4211 2024-01-20 17:30:00  Premier League     21  Sat  Away      L   2   3   \n4207 2024-01-12 19:45:00  Premier League     21  Fri  Away      D   1   1   \n4201 2024-01-12 19:45:00  Premier League     21  Fri  Home      D   1   1   \n4212 2024-01-21 14:00:00  Premier League     21  Sun  Home      D   2   2   \n\n          Opponent   xG  ...  Total_Goals  Points  Points_Cum GD_Cum GF_Cum  \\\n11        West Ham  4.0  ...            4       3           3      4      4   \n5     Huddersfield  1.9  ...            3       3           3      3      3   \n1     Cardiff City  2.2  ...            2       3           3      2      2   \n6           Fulham  1.0  ...            2       3           3      2      2   \n12         Arsenal  1.7  ...            2       3           3      2      2   \n...            ...  ...  ...          ...     ...         ...    ...    ...   \n4203       Arsenal  0.3  ...            5       0          21    -12     22   \n4211     Brentford  1.2  ...            5       0          20    -12     26   \n4207       Burnley  0.9  ...            2       1          16    -14     24   \n4201    Luton Town  1.1  ...            2       1          12    -21     21   \n4212      West Ham  2.5  ...            4       1          10    -34     17   \n\n     GA_Cum Ranking  Minus 1.5 Goals Minus 2.5 Goals  Minus 3.5 Goals  \n11        0       1                0               0                0  \n5         0       2                0               0                1  \n1         0       3                0               1                1  \n6         0       4                0               1                1  \n12        0       5                0               1                1  \n...     ...     ...              ...             ...              ...  \n4203     34      16                0               0                0  \n4211     38      17                0               0                0  \n4207     38      18                0               1                1  \n4201     42      19                0               1                1  \n4212     51      20                0               0                0  \n\n[4216 rows x 108 columns]",
      "text/html": "<div>\n<style scoped>\n    .dataframe tbody tr th:only-of-type {\n        vertical-align: middle;\n    }\n\n    .dataframe tbody tr th {\n        vertical-align: top;\n    }\n\n    .dataframe thead th {\n        text-align: right;\n    }\n</style>\n<table border=\"1\" class=\"dataframe\">\n  <thead>\n    <tr style=\"text-align: right;\">\n      <th></th>\n      <th>DateTime</th>\n      <th>Comp</th>\n      <th>Round</th>\n      <th>Day</th>\n      <th>Venue</th>\n      <th>Result</th>\n      <th>GF</th>\n      <th>GA</th>\n      <th>Opponent</th>\n      <th>xG</th>\n      <th>...</th>\n      <th>Total_Goals</th>\n      <th>Points</th>\n      <th>Points_Cum</th>\n      <th>GD_Cum</th>\n      <th>GF_Cum</th>\n      <th>GA_Cum</th>\n      <th>Ranking</th>\n      <th>Minus 1.5 Goals</th>\n      <th>Minus 2.5 Goals</th>\n      <th>Minus 3.5 Goals</th>\n    </tr>\n  </thead>\n  <tbody>\n    <tr>\n      <th>11</th>\n      <td>2018-08-12 13:30:00</td>\n      <td>Premier League</td>\n      <td>1</td>\n      <td>Sun</td>\n      <td>Home</td>\n      <td>W</td>\n      <td>4</td>\n      <td>0</td>\n      <td>West Ham</td>\n      <td>4.0</td>\n      <td>...</td>\n      <td>4</td>\n      <td>3</td>\n      <td>3</td>\n      <td>4</td>\n      <td>4</td>\n      <td>0</td>\n      <td>1</td>\n      <td>0</td>\n      <td>0</td>\n      <td>0</td>\n    </tr>\n    <tr>\n      <th>5</th>\n      <td>2018-08-11 15:00:00</td>\n      <td>Premier League</td>\n      <td>1</td>\n      <td>Sat</td>\n      <td>Away</td>\n      <td>W</td>\n      <td>3</td>\n      <td>0</td>\n      <td>Huddersfield</td>\n      <td>1.9</td>\n      <td>...</td>\n      <td>3</td>\n      <td>3</td>\n      <td>3</td>\n      <td>3</td>\n      <td>3</td>\n      <td>0</td>\n      <td>2</td>\n      <td>0</td>\n      <td>0</td>\n      <td>1</td>\n    </tr>\n    <tr>\n      <th>1</th>\n      <td>2018-08-11 15:00:00</td>\n      <td>Premier League</td>\n      <td>1</td>\n      <td>Sat</td>\n      <td>Home</td>\n      <td>W</td>\n      <td>2</td>\n      <td>0</td>\n      <td>Cardiff City</td>\n      <td>2.2</td>\n      <td>...</td>\n      <td>2</td>\n      <td>3</td>\n      <td>3</td>\n      <td>2</td>\n      <td>2</td>\n      <td>0</td>\n      <td>3</td>\n      <td>0</td>\n      <td>1</td>\n      <td>1</td>\n    </tr>\n    <tr>\n      <th>6</th>\n      <td>2018-08-11 15:00:00</td>\n      <td>Premier League</td>\n      <td>1</td>\n      <td>Sat</td>\n      <td>Away</td>\n      <td>W</td>\n      <td>2</td>\n      <td>0</td>\n      <td>Fulham</td>\n      <td>1.0</td>\n      <td>...</td>\n      <td>2</td>\n      <td>3</td>\n      <td>3</td>\n      <td>2</td>\n      <td>2</td>\n      <td>0</td>\n      <td>4</td>\n      <td>0</td>\n      <td>1</td>\n      <td>1</td>\n    </tr>\n    <tr>\n      <th>12</th>\n      <td>2018-08-12 16:00:00</td>\n      <td>Premier League</td>\n      <td>1</td>\n      <td>Sun</td>\n      <td>Away</td>\n      <td>W</td>\n      <td>2</td>\n      <td>0</td>\n      <td>Arsenal</td>\n      <td>1.7</td>\n      <td>...</td>\n      <td>2</td>\n      <td>3</td>\n      <td>3</td>\n      <td>2</td>\n      <td>2</td>\n      <td>0</td>\n      <td>5</td>\n      <td>0</td>\n      <td>1</td>\n      <td>1</td>\n    </tr>\n    <tr>\n      <th>...</th>\n      <td>...</td>\n      <td>...</td>\n      <td>...</td>\n      <td>...</td>\n      <td>...</td>\n      <td>...</td>\n      <td>...</td>\n      <td>...</td>\n      <td>...</td>\n      <td>...</td>\n      <td>...</td>\n      <td>...</td>\n      <td>...</td>\n      <td>...</td>\n      <td>...</td>\n      <td>...</td>\n      <td>...</td>\n      <td>...</td>\n      <td>...</td>\n      <td>...</td>\n      <td>...</td>\n    </tr>\n    <tr>\n      <th>4203</th>\n      <td>2024-01-20 12:30:00</td>\n      <td>Premier League</td>\n      <td>21</td>\n      <td>Sat</td>\n      <td>Away</td>\n      <td>L</td>\n      <td>0</td>\n      <td>5</td>\n      <td>Arsenal</td>\n      <td>0.3</td>\n      <td>...</td>\n      <td>5</td>\n      <td>0</td>\n      <td>21</td>\n      <td>-12</td>\n      <td>22</td>\n      <td>34</td>\n      <td>16</td>\n      <td>0</td>\n      <td>0</td>\n      <td>0</td>\n    </tr>\n    <tr>\n      <th>4211</th>\n      <td>2024-01-20 17:30:00</td>\n      <td>Premier League</td>\n      <td>21</td>\n      <td>Sat</td>\n      <td>Away</td>\n      <td>L</td>\n      <td>2</td>\n      <td>3</td>\n      <td>Brentford</td>\n      <td>1.2</td>\n      <td>...</td>\n      <td>5</td>\n      <td>0</td>\n      <td>20</td>\n      <td>-12</td>\n      <td>26</td>\n      <td>38</td>\n      <td>17</td>\n      <td>0</td>\n      <td>0</td>\n      <td>0</td>\n    </tr>\n    <tr>\n      <th>4207</th>\n      <td>2024-01-12 19:45:00</td>\n      <td>Premier League</td>\n      <td>21</td>\n      <td>Fri</td>\n      <td>Away</td>\n      <td>D</td>\n      <td>1</td>\n      <td>1</td>\n      <td>Burnley</td>\n      <td>0.9</td>\n      <td>...</td>\n      <td>2</td>\n      <td>1</td>\n      <td>16</td>\n      <td>-14</td>\n      <td>24</td>\n      <td>38</td>\n      <td>18</td>\n      <td>0</td>\n      <td>1</td>\n      <td>1</td>\n    </tr>\n    <tr>\n      <th>4201</th>\n      <td>2024-01-12 19:45:00</td>\n      <td>Premier League</td>\n      <td>21</td>\n      <td>Fri</td>\n      <td>Home</td>\n      <td>D</td>\n      <td>1</td>\n      <td>1</td>\n      <td>Luton Town</td>\n      <td>1.1</td>\n      <td>...</td>\n      <td>2</td>\n      <td>1</td>\n      <td>12</td>\n      <td>-21</td>\n      <td>21</td>\n      <td>42</td>\n      <td>19</td>\n      <td>0</td>\n      <td>1</td>\n      <td>1</td>\n    </tr>\n    <tr>\n      <th>4212</th>\n      <td>2024-01-21 14:00:00</td>\n      <td>Premier League</td>\n      <td>21</td>\n      <td>Sun</td>\n      <td>Home</td>\n      <td>D</td>\n      <td>2</td>\n      <td>2</td>\n      <td>West Ham</td>\n      <td>2.5</td>\n      <td>...</td>\n      <td>4</td>\n      <td>1</td>\n      <td>10</td>\n      <td>-34</td>\n      <td>17</td>\n      <td>51</td>\n      <td>20</td>\n      <td>0</td>\n      <td>0</td>\n      <td>0</td>\n    </tr>\n  </tbody>\n</table>\n<p>4216 rows × 108 columns</p>\n</div>"
     },
     "execution_count": 3,
     "metadata": {},
     "output_type": "execute_result"
    }
   ],
   "source": [
    "PremierLeague().data.get_data()"
   ],
   "metadata": {
    "collapsed": false,
    "ExecuteTime": {
     "end_time": "2024-02-15T18:27:21.537079Z",
     "start_time": "2024-02-15T18:27:20.946477Z"
    }
   },
   "id": "8a98250e8cebb25e",
   "execution_count": 3
  },
  {
   "cell_type": "code",
   "outputs": [],
   "source": [],
   "metadata": {
    "collapsed": false
   },
   "id": "a71ef6e55c6a390d"
  }
 ],
 "metadata": {
  "kernelspec": {
   "display_name": "Python 3",
   "language": "python",
   "name": "python3"
  },
  "language_info": {
   "codemirror_mode": {
    "name": "ipython",
    "version": 2
   },
   "file_extension": ".py",
   "mimetype": "text/x-python",
   "name": "python",
   "nbconvert_exporter": "python",
   "pygments_lexer": "ipython2",
   "version": "2.7.6"
  }
 },
 "nbformat": 4,
 "nbformat_minor": 5
}
